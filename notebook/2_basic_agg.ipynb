{
 "cells": [
  {
   "cell_type": "markdown",
   "id": "edb3cf3e-dcdc-4e03-8669-e68cd01f2848",
   "metadata": {},
   "source": [
    "# 基礎集計\n",
    "\n",
    "1. 形態素解析  \n",
    "1. 係り受け解析  \n",
    "1. N-gram解析  \n",
    "上記を行い、カテゴリ別に出現する単語の傾向把握と、全カテゴリとのリフト値から差分を確認する"
   ]
  },
  {
   "cell_type": "markdown",
   "id": "350307f6-4269-49f5-8e39-747fd50d2d55",
   "metadata": {},
   "source": [
    "# 出力ディレクトリの指定"
   ]
  },
  {
   "cell_type": "code",
   "execution_count": 4,
   "id": "1f03082f-5d4a-4e24-b479-651a993b3ad9",
   "metadata": {},
   "outputs": [],
   "source": [
    "# 変更箇所\n",
    "input_dir = \"../data/preprocessing/\"\n",
    "output_dir = \"../data/basic_agg/\""
   ]
  },
  {
   "cell_type": "code",
   "execution_count": 5,
   "id": "2ca5b040-dbc8-4ef7-9e67-dc60bfd2ff16",
   "metadata": {},
   "outputs": [
    {
     "name": "stdout",
     "output_type": "stream",
     "text": [
      "存在するディレクトリです\n"
     ]
    }
   ],
   "source": [
    "import os\n",
    "\n",
    "if os.path.isdir(output_dir):\n",
    "    print(\"存在するディレクトリです\")\n",
    "else:\n",
    "    os.makedirs(output_dir)\n",
    "    print(\"出力ディレクトリを作成しました\")"
   ]
  },
  {
   "cell_type": "code",
   "execution_count": 10,
   "id": "b68e1e2f-9373-4a9a-851c-3b5e351b4f41",
   "metadata": {},
   "outputs": [
    {
     "name": "stdout",
     "output_type": "stream",
     "text": [
      "データ数:  1\n",
      "['../data/preprocessing/all_category_df.csv']\n"
     ]
    }
   ],
   "source": [
    "import glob\n",
    "\n",
    "input_paths = glob.glob(f\"{input_dir}*.csv\")\n",
    "print(\"データ数: \", len(input_paths))\n",
    "print(input_paths)"
   ]
  },
  {
   "cell_type": "code",
   "execution_count": 11,
   "id": "bd389364-1449-4cf2-8a22-88b8f8265285",
   "metadata": {},
   "outputs": [],
   "source": [
    "# 基礎集計に使用するDataFrameのパスを指定\n",
    "input_path = input_paths[0]"
   ]
  },
  {
   "cell_type": "markdown",
   "id": "6d453ce8-1924-408e-ae80-49089eca1f5d",
   "metadata": {},
   "source": [
    "----"
   ]
  },
  {
   "cell_type": "code",
   "execution_count": 12,
   "id": "b88133bb-6464-4dfa-9c68-97dbc98c2c4c",
   "metadata": {},
   "outputs": [],
   "source": [
    "import pandas as pd"
   ]
  },
  {
   "cell_type": "code",
   "execution_count": 14,
   "id": "d16ae5a1-62b7-49d0-b5e0-79362864d865",
   "metadata": {},
   "outputs": [
    {
     "data": {
      "text/html": [
       "<div>\n",
       "<style scoped>\n",
       "    .dataframe tbody tr th:only-of-type {\n",
       "        vertical-align: middle;\n",
       "    }\n",
       "\n",
       "    .dataframe tbody tr th {\n",
       "        vertical-align: top;\n",
       "    }\n",
       "\n",
       "    .dataframe thead th {\n",
       "        text-align: right;\n",
       "    }\n",
       "</style>\n",
       "<table border=\"1\" class=\"dataframe\">\n",
       "  <thead>\n",
       "    <tr style=\"text-align: right;\">\n",
       "      <th></th>\n",
       "      <th>category</th>\n",
       "      <th>text</th>\n",
       "    </tr>\n",
       "  </thead>\n",
       "  <tbody>\n",
       "    <tr>\n",
       "      <th>0</th>\n",
       "      <td>dokujo-tsushin</td>\n",
       "      <td>友人代表のスピーチ、独女はどうこなしている?\\n もうすぐジューン・ブライドと呼ばれる0月。...</td>\n",
       "    </tr>\n",
       "    <tr>\n",
       "      <th>1</th>\n",
       "      <td>dokujo-tsushin</td>\n",
       "      <td>ネットで断ち切れない元カレとの縁\\n 携帯電話が普及する以前、恋人への連絡ツールは一般電話が...</td>\n",
       "    </tr>\n",
       "  </tbody>\n",
       "</table>\n",
       "</div>"
      ],
      "text/plain": [
       "         category                                               text\n",
       "0  dokujo-tsushin  友人代表のスピーチ、独女はどうこなしている?\\n もうすぐジューン・ブライドと呼ばれる0月。...\n",
       "1  dokujo-tsushin  ネットで断ち切れない元カレとの縁\\n 携帯電話が普及する以前、恋人への連絡ツールは一般電話が..."
      ]
     },
     "execution_count": 14,
     "metadata": {},
     "output_type": "execute_result"
    }
   ],
   "source": [
    "all_category_df = pd.read_csv(input_path)\n",
    "all_category_df.head(2)"
   ]
  },
  {
   "cell_type": "code",
   "execution_count": null,
   "id": "d21337d1-8ed8-4485-8806-b0f1955df960",
   "metadata": {},
   "outputs": [],
   "source": []
  }
 ],
 "metadata": {
  "kernelspec": {
   "display_name": "Python 3 (ipykernel)",
   "language": "python",
   "name": "python3"
  },
  "language_info": {
   "codemirror_mode": {
    "name": "ipython",
    "version": 3
   },
   "file_extension": ".py",
   "mimetype": "text/x-python",
   "name": "python",
   "nbconvert_exporter": "python",
   "pygments_lexer": "ipython3",
   "version": "3.9.7"
  }
 },
 "nbformat": 4,
 "nbformat_minor": 5
}
